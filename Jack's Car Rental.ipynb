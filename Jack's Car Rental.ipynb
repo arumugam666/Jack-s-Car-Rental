{
 "cells": [
  {
   "cell_type": "code",
   "execution_count": 1,
   "metadata": {},
   "outputs": [
    {
     "name": "stdout",
     "output_type": "stream",
     "text": [
      "Requirement already satisfied: numpy in c:\\users\\rmaru\\appdata\\local\\programs\\python\\python37\\lib\\site-packages (1.18.2)\n"
     ]
    },
    {
     "name": "stderr",
     "output_type": "stream",
     "text": [
      "WARNING: You are using pip version 19.2.3, however version 20.2 is available.\n",
      "You should consider upgrading via the 'python -m pip install --upgrade pip' command.\n"
     ]
    },
    {
     "name": "stdout",
     "output_type": "stream",
     "text": [
      "Requirement already satisfied: tqdm in c:\\users\\rmaru\\appdata\\local\\programs\\python\\python37\\lib\\site-packages (4.45.0)"
     ]
    },
    {
     "name": "stderr",
     "output_type": "stream",
     "text": [
      "WARNING: You are using pip version 19.2.3, however version 20.2 is available.\n",
      "You should consider upgrading via the 'python -m pip install --upgrade pip' command.\n"
     ]
    },
    {
     "name": "stdout",
     "output_type": "stream",
     "text": [
      "\n",
      "Requirement already satisfied: matplotlib in c:\\users\\rmaru\\appdata\\local\\programs\\python\\python37\\lib\\site-packages (3.2.1)\n",
      "Requirement already satisfied: kiwisolver>=1.0.1 in c:\\users\\rmaru\\appdata\\local\\programs\\python\\python37\\lib\\site-packages (from matplotlib) (1.2.0)\n",
      "Requirement already satisfied: pyparsing!=2.0.4,!=2.1.2,!=2.1.6,>=2.0.1 in c:\\users\\rmaru\\appdata\\local\\programs\\python\\python37\\lib\\site-packages (from matplotlib) (2.4.6)\n",
      "Requirement already satisfied: cycler>=0.10 in c:\\users\\rmaru\\appdata\\local\\programs\\python\\python37\\lib\\site-packages (from matplotlib) (0.10.0)\n",
      "Requirement already satisfied: numpy>=1.11 in c:\\users\\rmaru\\appdata\\local\\programs\\python\\python37\\lib\\site-packages (from matplotlib) (1.18.2)\n",
      "Requirement already satisfied: python-dateutil>=2.1 in c:\\users\\rmaru\\appdata\\roaming\\python\\python37\\site-packages (from matplotlib) (2.8.1)\n",
      "Requirement already satisfied: six in c:\\users\\rmaru\\appdata\\local\\programs\\python\\python37\\lib\\site-packages (from cycler>=0.10->matplotlib) (1.14.0)\n"
     ]
    },
    {
     "name": "stderr",
     "output_type": "stream",
     "text": [
      "WARNING: You are using pip version 19.2.3, however version 20.2 is available.\n",
      "You should consider upgrading via the 'python -m pip install --upgrade pip' command.\n"
     ]
    }
   ],
   "source": [
    "!pip install numpy\n",
    "!pip install tqdm\n",
    "!pip install matplotlib"
   ]
  },
  {
   "cell_type": "code",
   "execution_count": 2,
   "metadata": {},
   "outputs": [],
   "source": [
    "import numpy as np\n",
    "import copy\n",
    "import math\n",
    "import time\n",
    "from tqdm import tqdm\n",
    "import matplotlib.pyplot as plt\n",
    "\n",
    "def timit(func):\n",
    "    def wrapper(*args,**kwargs):\n",
    "        t1 = time.perf_counter()\n",
    "        func(*args,**kwargs)\n",
    "        print(\"Time taken by {} to run\".format(func.__name__),time.perf_counter()-t1)\n",
    "    return wrapper"
   ]
  },
  {
   "cell_type": "markdown",
   "metadata": {},
   "source": [
    "# Jack's Car Rental\n",
    "Here are key specific points about the problem:\n",
    "- 2 locations A, B\n",
    "- Each location can only hold 20 cars.\n",
    "- Every time a car is rented, we earn \\$10 (Reward)\n",
    "- Every time we move a car overnight to another location, it costs us \\$2 (Negative Reward).\n",
    "- The maximum number of cars we can move overnight is 5 (Action).\n",
    "- The number of cars requested and returned at each location (n) on any given day are Poisson random variables.\n",
    "- The expected number (lambda) of **rental requests at the first and second location is 3 and 4 respectively.**\n",
    "- The expected number of **rental returns at the first and second location is 3 and 2 respectively.**\n",
    "- Our discount rate for future returns, (γ), is 0.9.\n",
    "- The time step are days (thus, one step in an iteration can be considered a full day), the state is the number of cars at each location at the end of the day, and the actions are the net number of cars moved between the two locations overnight."
   ]
  },
  {
   "cell_type": "code",
   "execution_count": 3,
   "metadata": {},
   "outputs": [],
   "source": [
    "class CarRental:\n",
    "    '''\n",
    "    Here we build the model for the enviroment Jack's Car Rental\n",
    "    The problem is formulated as a continuing MDP with a discount rate = 0.9\n",
    "    \n",
    "    We first construct the possible transitions from the previous state.\n",
    "    Each transition is to be broken into two pieces:\n",
    "        - Transitions due to rental requests the previous day\n",
    "        - Transitions due to rental returns the previous day\n",
    "    \n",
    "    While calculating the probabilities for the rental returns and requests, we \n",
    "    truncate the values of n sampled untill n = 11\n",
    "    \n",
    "    We create two transition look up dictionaries using the methods:\n",
    "        - _get_posible_transitions_requests()\n",
    "        - _get_posible_transitions_returns()\n",
    "        \n",
    "    The look up from the first dictionary is piped into the second dictionary\n",
    "    to construct a complete transistion table.\n",
    "    '''\n",
    "    \n",
    "    @staticmethod\n",
    "    def _get_posible_transitions_requests():\n",
    "        '''\n",
    "        This method constructs the transition look up dictionary \n",
    "        for rental requests the previous day.\n",
    "        \n",
    "        The structure of the object returned is as follows:\n",
    "        {\n",
    "            state :{\n",
    "                state_before_returns :{\n",
    "                    \"probability\": transistion probability,\n",
    "                    \"reward\": transition reward\n",
    "                } \n",
    "            }\n",
    "        }\n",
    "        '''\n",
    "        states = {x:{} for x in range(441)}\n",
    "\n",
    "        requests_a_prob = CarRental._get_poison(\n",
    "            np.array([x for x in range(12)]),\n",
    "            3\n",
    "        )\n",
    "        requests_a = np.array(list(zip([x for x in range(12)],requests_a_prob)))\n",
    "        \n",
    "        requests_b_prob = CarRental._get_poison(\n",
    "            np.array([x for x in range(12)]),\n",
    "            4\n",
    "        )\n",
    "        requests_b = np.array(list(zip([x for x in range(12)],requests_b_prob)))\n",
    "  \n",
    "        for state in states:\n",
    "            num_cars_a, num_cars_b = np.unravel_index(state,(21,21))\n",
    "            \n",
    "            reward_req_a = np.minimum(requests_a[:,0],num_cars_a)*10\n",
    "            reward_req_b = np.minimum(requests_b[:,0],num_cars_b)*10\n",
    "            \n",
    "            for x in range(1,12):\n",
    "                for y in range(1,12):\n",
    "                    \n",
    "                    new_state_a = max(0, num_cars_a-x)\n",
    "                    new_state_b = max(0, num_cars_b-y)\n",
    "                    new_state = np.ravel_multi_index((new_state_a,new_state_b),(21,21))\n",
    "                    if new_state not in states[state]:\n",
    "                        states[state][new_state] = {\n",
    "                            \"probability\": requests_a_prob[x]*requests_b_prob[y],\n",
    "                            \"reward\": reward_req_a[x]+reward_req_b[y]\n",
    "                        }\n",
    "                    else:\n",
    "                        states[state][new_state][\"probability\"] += requests_a_prob[x]*requests_b_prob[y]\n",
    "            \n",
    "\n",
    "        return states\n",
    "    \n",
    "    @staticmethod\n",
    "    def _get_posible_transitions_returns():\n",
    "        '''\n",
    "        This method constructs the transition look up dictionary \n",
    "        for rental returns the previous day.\n",
    "        \n",
    "        The structure of the object returned is as follows:\n",
    "        {\n",
    "            state_before_returns :{\n",
    "                state_after_returns :{\n",
    "                    \"probability\": transistion probability\n",
    "                } \n",
    "            }\n",
    "        }\n",
    "        '''\n",
    "        states = {x:{} for x in range(441)}\n",
    "        \n",
    "        returns_a_prob = CarRental._get_poison(\n",
    "            np.array([x for x in range(12)]),\n",
    "            3\n",
    "        )\n",
    "        returns_a = np.array(list(zip([x for x in range(12)],returns_a_prob)))\n",
    "                \n",
    "        returns_b_prob = CarRental._get_poison(\n",
    "            np.array([x for x in range(12)]),\n",
    "            2\n",
    "        )\n",
    "        returns_b = np.array(list(zip([x for x in range(12)],returns_b_prob)))\n",
    "  \n",
    "        for state in states:\n",
    "            num_cars_a, num_cars_b = np.unravel_index(state,(21,21))\n",
    "            \n",
    "            for x in range(1,12):\n",
    "                for y in range(1,12):\n",
    "                    \n",
    "                    new_state_a = min(20, num_cars_a+x)\n",
    "                    new_state_b = min(20, num_cars_b+y)\n",
    "                    new_state = np.ravel_multi_index((new_state_a,new_state_b),(21,21))\n",
    "                    if new_state not in states[state]:\n",
    "                        states[state][new_state] = {\n",
    "                            \"probability\": returns_a_prob[x]*returns_b_prob[y],\n",
    "                        }\n",
    "                    else:\n",
    "                        states[state][new_state][\"probability\"] += returns_a_prob[x]*returns_b_prob[y]\n",
    "            \n",
    "\n",
    "        return states\n",
    "    \n",
    "    @staticmethod\n",
    "    def _get_possible_actions(state):\n",
    "        '''\n",
    "        Given a state, this function returns a dictionary of possible actions and the results of those actions.\n",
    "        \n",
    "        The structure of the object returned is as follows:\n",
    "\n",
    "        {\n",
    "            state_before_action :{\n",
    "                \"new_state\": state_after_action,\n",
    "                \"reward\": reward due to action\n",
    "            }\n",
    "        }\n",
    "        '''\n",
    "        actions = {}\n",
    "        (num_cars_a, num_cars_b) = np.unravel_index(state,(21,21))\n",
    "        move_a_to_b = min(5,num_cars_a)\n",
    "        move_b_to_a = min(5,num_cars_b)\n",
    "        for x in range(-move_b_to_a, move_a_to_b+1):\n",
    "            new_state_a = min(20,num_cars_a-x)\n",
    "            new_state_b = min(20,num_cars_b+x)\n",
    "            actions[x] = {\n",
    "                \"new_state\": np.ravel_multi_index((new_state_a,new_state_b),(21,21)),\n",
    "                \"reward\": abs(x)*-2\n",
    "            }\n",
    "        return actions\n",
    "    \n",
    "    @staticmethod\n",
    "    def _get_poison(x,n):\n",
    "        return np.power(x,n)*np.exp(-x)/np.math.factorial(n)\n",
    "    \n",
    "    @timit\n",
    "    def __init__(self):\n",
    "        self.actions = [x-5 for x in range(11)]\n",
    "        states_requests = self._get_posible_transitions_requests()\n",
    "        states_returns = self._get_posible_transitions_returns()\n",
    "        self.states = {}\n",
    "\n",
    "        for state_before_request, transitions in states_requests.items():\n",
    "            \n",
    "            self.states[state_before_request] = {}\n",
    "            \n",
    "            for state_after_request, transition_details in transitions.items():\n",
    "                \n",
    "\n",
    "                for state_after_return, return_trasition_probability_dict in states_returns[state_after_request].items():\n",
    "    \n",
    "                    if state_after_return not in self.states[state_before_request]:\n",
    "                        self.states[state_before_request][state_after_return] = {\n",
    "                            \"expected_reward\":transition_details[\"reward\"]* \\\n",
    "                            transition_details[\"probability\"]*return_trasition_probability_dict[\"probability\"],\n",
    "                            \"probability\":transition_details[\"probability\"]*return_trasition_probability_dict[\"probability\"]\n",
    "                        }\n",
    "\n",
    "                    else:\n",
    "                        self.states[state_before_request][state_after_return][\"expected_reward\"] += \\\n",
    "                            (transition_details[\"reward\"]* transition_details[\"probability\"]* \\\n",
    "                            return_trasition_probability_dict[\"probability\"])\n",
    "                        self.states[state_before_request][state_after_return][\"probability\"] += \\\n",
    "                            (transition_details[\"probability\"]* return_trasition_probability_dict[\"probability\"])"
   ]
  },
  {
   "cell_type": "code",
   "execution_count": 4,
   "metadata": {},
   "outputs": [
    {
     "name": "stdout",
     "output_type": "stream",
     "text": [
      "Time taken by __init__ to run 3.5354817999999995\n"
     ]
    }
   ],
   "source": [
    "# initialisation\n",
    "policy = {x:{y:(1 if y ==0 else 0) for y in CarRental._get_possible_actions(x)} for x in range(441)}\n",
    "gamma = 0.9\n",
    "value = [0]*441\n",
    "a = CarRental()\n"
   ]
  },
  {
   "cell_type": "code",
   "execution_count": 5,
   "metadata": {},
   "outputs": [
    {
     "name": "stdout",
     "output_type": "stream",
     "text": [
      "Number of iterations in the function iterative_policy_evaluation_one_step_online: 24\n"
     ]
    }
   ],
   "source": [
    "# policy evaluation\n",
    "delta = 0\n",
    "theta = 1\n",
    "x = 0\n",
    "while True:\n",
    "    x += 1\n",
    "    value_old = copy.deepcopy(value)\n",
    "\n",
    "    for state_before_action in range(441):\n",
    "\n",
    "        possible_actions_dict = CarRental._get_possible_actions(state_before_action)\n",
    "\n",
    "        accumulator = 0\n",
    "\n",
    "        for action, action_results_dict in possible_actions_dict.items():\n",
    "\n",
    "            state_after_action = action_results_dict['new_state']\n",
    "            reward_action = action_results_dict['reward']\n",
    "\n",
    "            \n",
    "            for state_after_transition, reward_transition_dict in a.states[state_after_action].items():\n",
    "                expected_reward_transition = reward_transition_dict['expected_reward']\n",
    "                probability_transition = reward_transition_dict['probability']\n",
    "                expected_reward_action = reward_action*probability_transition\n",
    "                total_expected_reward = (expected_reward_transition+expected_reward_action)*policy[state_before_action][action]\n",
    "                accumulator += (total_expected_reward + gamma * \\\n",
    "                                probability_transition*policy[state_before_action][action]*value[state_after_transition])\n",
    "\n",
    "\n",
    "        value[state_before_action] = accumulator\n",
    "    \n",
    "    \n",
    "    delta = max(map(lambda x: abs(x[0]-x[1]),zip(value, value_old)))\n",
    "    if delta <theta:\n",
    "        break\n",
    "print(\"Number of iterations in the function iterative_policy_evaluation_one_step_online:\",x)\n",
    "\n"
   ]
  },
  {
   "cell_type": "code",
   "execution_count": 6,
   "metadata": {},
   "outputs": [],
   "source": [
    "# policy improvement\n",
    "for state_before_action in range(441):\n",
    "\n",
    "    max_val = -math.inf\n",
    "    max_action = None\n",
    "    \n",
    "    possible_actions_dict = CarRental._get_possible_actions(state_before_action)\n",
    "\n",
    "\n",
    "    for action, action_results_dict in possible_actions_dict.items():\n",
    "\n",
    "        state_after_action = action_results_dict['new_state']\n",
    "        reward_action = action_results_dict['reward']\n",
    "        \n",
    "        accumulator = 0\n",
    "\n",
    "        for state_after_transition, reward_transition_dict in a.states[state_after_action].items():\n",
    "            expected_reward_transition = reward_transition_dict['expected_reward']\n",
    "            probability_transition = reward_transition_dict['probability']\n",
    "            expected_reward_action = reward_action*probability_transition\n",
    "            total_expected_reward = (expected_reward_transition+expected_reward_action)\n",
    "            accumulator += (total_expected_reward + gamma * \\\n",
    "                            probability_transition*value[state_after_transition])\n",
    "        val = accumulator\n",
    "        if val>max_val:\n",
    "            max_val = val\n",
    "            max_action = [action]\n",
    "\n",
    "        elif val == max_val:\n",
    "            max_action.append(action)\n",
    "#         print(max_action)\n",
    "    for action in possible_actions_dict:\n",
    "        if action in max_action:\n",
    "            policy[state_before_action][action] = 1/len(max_action)\n",
    "        else:\n",
    "            policy[state_before_action][action] = 0"
   ]
  },
  {
   "cell_type": "code",
   "execution_count": 7,
   "metadata": {},
   "outputs": [],
   "source": [
    "# plotting\n",
    "twod_representation = np.zeros((21,21))\n",
    "\n",
    "for state,actions in policy.items():\n",
    "    num_cars_a, num_cars_b = np.unravel_index(state,(21,21))\n",
    "    max_val = 0\n",
    "    max_action = None\n",
    "    for action, prob in actions.items():\n",
    "        if prob>max_val:\n",
    "            max_action = action\n",
    "            max_val = prob\n",
    "    twod_representation[num_cars_a][num_cars_b] = max_action\n"
   ]
  },
  {
   "cell_type": "code",
   "execution_count": 8,
   "metadata": {},
   "outputs": [
    {
     "data": {
      "text/plain": [
       "<matplotlib.image.AxesImage at 0x17398085688>"
      ]
     },
     "execution_count": 8,
     "metadata": {},
     "output_type": "execute_result"
    },
    {
     "data": {
      "image/png": "[encoded data removed]",
      "text/plain": [
       "<Figure size 432x288 with 1 Axes>"
      ]
     },
     "metadata": {
      "needs_background": "light"
     },
     "output_type": "display_data"
    }
   ],
   "source": [
    "plt.imshow(twod_representation)"
   ]
  },
  {
   "cell_type": "markdown",
   "metadata": {},
   "source": [
    "# Complete policy iteration"
   ]
  },
  {
   "cell_type": "code",
   "execution_count": 9,
   "metadata": {},
   "outputs": [
    {
     "name": "stdout",
     "output_type": "stream",
     "text": [
      "Time taken by __init__ to run 4.407050799999993\n",
      "Starting policy evaluation ...\n",
      "Number of iterations in the function iterative_policy_evaluation_one_step_online: 24\n",
      "Starting policy evaluation ...\n",
      "Number of iterations in the function iterative_policy_evaluation_one_step_online: 8\n",
      "Starting policy evaluation ...\n",
      "Number of iterations in the function iterative_policy_evaluation_one_step_online: 5\n",
      "Starting policy evaluation ...\n",
      "Number of iterations in the function iterative_policy_evaluation_one_step_online: 1\n",
      "Starting policy evaluation ...\n",
      "Number of iterations in the function iterative_policy_evaluation_one_step_online: 1\n"
     ]
    }
   ],
   "source": [
    "# initialisation\n",
    "policy = {x:{y:(1 if y ==0 else 0) for y in CarRental._get_possible_actions(x)} for x in range(441)}\n",
    "gamma = 0.9\n",
    "value = [0]*441\n",
    "a = CarRental()\n",
    "plottables = []\n",
    "\n",
    "while True:\n",
    "    \n",
    "    print(\"Starting policy evaluation ...\")\n",
    "    \n",
    "    # plotting\n",
    "    twod_representation = np.zeros((21,21))\n",
    "\n",
    "    for state,actions in policy.items():\n",
    "        num_cars_a, num_cars_b = np.unravel_index(state,(21,21))\n",
    "        max_val = 0\n",
    "        max_action = None\n",
    "        for action, prob in actions.items():\n",
    "            if prob>max_val:\n",
    "                max_action = action\n",
    "                max_val = prob\n",
    "        twod_representation[num_cars_a][num_cars_b] = max_action\n",
    "    \n",
    "    plottables.append(copy.deepcopy(twod_representation))\n",
    "    \n",
    "    # policy evaluation\n",
    "    delta = 0\n",
    "    theta = 1\n",
    "    x = 0\n",
    "    while True:\n",
    "        x += 1\n",
    "        value_old = copy.deepcopy(value)\n",
    "\n",
    "        for state_before_action in range(441):\n",
    "\n",
    "            possible_actions_dict = CarRental._get_possible_actions(state_before_action)\n",
    "\n",
    "            accumulator = 0\n",
    "\n",
    "            for action, action_results_dict in possible_actions_dict.items():\n",
    "\n",
    "                state_after_action = action_results_dict['new_state']\n",
    "                reward_action = action_results_dict['reward']\n",
    "\n",
    "\n",
    "                for state_after_transition, reward_transition_dict in a.states[state_after_action].items():\n",
    "                    expected_reward_transition = reward_transition_dict['expected_reward']\n",
    "                    probability_transition = reward_transition_dict['probability']\n",
    "                    expected_reward_action = reward_action*probability_transition\n",
    "                    total_expected_reward = (expected_reward_transition+expected_reward_action)* \\\n",
    "                                    policy[state_before_action][action]\n",
    "                    accumulator += (total_expected_reward + gamma * \\\n",
    "                                    probability_transition*policy[state_before_action][action]*value[state_after_transition])\n",
    "\n",
    "            value[state_before_action] = accumulator\n",
    "\n",
    "\n",
    "        delta = max(map(lambda x: abs(x[0]-x[1]),zip(value, value_old)))\n",
    "        if delta <theta:\n",
    "            break\n",
    "    print(\"Number of iterations in the function iterative_policy_evaluation_one_step_online:\",x)\n",
    "\n",
    "    # policy improvement\n",
    "    policy_old = copy.deepcopy(policy)\n",
    "    \n",
    "    for state_before_action in range(441):\n",
    "\n",
    "        max_val = -math.inf\n",
    "        max_action = None\n",
    "\n",
    "        possible_actions_dict = CarRental._get_possible_actions(state_before_action)\n",
    "\n",
    "\n",
    "        for action, action_results_dict in possible_actions_dict.items():\n",
    "\n",
    "            state_after_action = action_results_dict['new_state']\n",
    "            reward_action = action_results_dict['reward']\n",
    "\n",
    "            accumulator = 0\n",
    "\n",
    "            for state_after_transition, reward_transition_dict in a.states[state_after_action].items():\n",
    "                expected_reward_transition = reward_transition_dict['expected_reward']\n",
    "                probability_transition = reward_transition_dict['probability']\n",
    "                expected_reward_action = reward_action*probability_transition\n",
    "                total_expected_reward = (expected_reward_transition+expected_reward_action)\n",
    "                accumulator += (total_expected_reward + gamma * \\\n",
    "                                probability_transition*value[state_after_transition])\n",
    "            val = accumulator\n",
    "            if val>max_val:\n",
    "                max_val = val\n",
    "                max_action = [action]\n",
    "\n",
    "            elif val == max_val:\n",
    "                max_action.append(action)\n",
    "        for action in possible_actions_dict:\n",
    "            if action in max_action:\n",
    "                policy[state_before_action][action] = 1/len(max_action)\n",
    "            else:\n",
    "                policy[state_before_action][action] = 0\n",
    "                \n",
    "    if policy == policy_old:\n",
    "        break"
   ]
  },
  {
   "cell_type": "code",
   "execution_count": 10,
   "metadata": {},
   "outputs": [
    {
     "name": "stdout",
     "output_type": "stream",
     "text": [
      "Policy after 0 steps of policy iteration\n"
     ]
    },
    {
     "data": {
      "image/png": "[encoded data removed]",
      "text/plain": [
       "<Figure size 432x288 with 1 Axes>"
      ]
     },
     "metadata": {
      "needs_background": "light"
     },
     "output_type": "display_data"
    },
    {
     "name": "stdout",
     "output_type": "stream",
     "text": [
      "Policy after 1 steps of policy iteration\n"
     ]
    },
    {
     "data": {
      "image/png": "[encoded data removed]",
      "text/plain": [
       "<Figure size 432x288 with 1 Axes>"
      ]
     },
     "metadata": {
      "needs_background": "light"
     },
     "output_type": "display_data"
    },
    {
     "name": "stdout",
     "output_type": "stream",
     "text": [
      "Policy after 2 steps of policy iteration\n"
     ]
    },
    {
     "data": {
      "image/png": "[encoded data removed]",
      "text/plain": [
       "<Figure size 432x288 with 1 Axes>"
      ]
     },
     "metadata": {
      "needs_background": "light"
     },
     "output_type": "display_data"
    },
    {
     "name": "stdout",
     "output_type": "stream",
     "text": [
      "Policy after 3 steps of policy iteration\n"
     ]
    },
    {
     "data": {
      "image/png": "[encoded data removed]",
      "text/plain": [
       "<Figure size 432x288 with 1 Axes>"
      ]
     },
     "metadata": {
      "needs_background": "light"
     },
     "output_type": "display_data"
    },
    {
     "name": "stdout",
     "output_type": "stream",
     "text": [
      "Policy after 4 steps of policy iteration\n"
     ]
    },
    {
     "data": {
      "image/png": "[encoded data removed]",
      "text/plain": [
       "<Figure size 432x288 with 1 Axes>"
      ]
     },
     "metadata": {
      "needs_background": "light"
     },
     "output_type": "display_data"
    }
   ],
   "source": [
    "for ind,x in enumerate(plottables):\n",
    "    plt.imshow(x)\n",
    "    print(\"Policy after {} steps of policy iteration\".format(ind))\n",
    "    plt.show()"
   ]
  },
  {
   "cell_type": "code",
   "execution_count": null,
   "metadata": {},
   "outputs": [],
   "source": []
  }
 ],
 "metadata": {
  "kernelspec": {
   "display_name": "Python 3",
   "language": "python",
   "name": "python3"
  },
  "language_info": {
   "codemirror_mode": {
    "name": "ipython",
    "version": 3
   },
   "file_extension": ".py",
   "mimetype": "text/x-python",
   "name": "python",
   "nbconvert_exporter": "python",
   "pygments_lexer": "ipython3",
   "version": "3.7.6"
  }
 },
 "nbformat": 4,
 "nbformat_minor": 4
}
